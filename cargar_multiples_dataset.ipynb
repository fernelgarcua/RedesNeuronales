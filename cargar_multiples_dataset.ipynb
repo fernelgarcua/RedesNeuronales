{
  "nbformat": 4,
  "nbformat_minor": 0,
  "metadata": {
    "colab": {
      "provenance": [],
      "authorship_tag": "ABX9TyOia25M2Ih9DRLS7TvRyxvp",
      "include_colab_link": true
    },
    "kernelspec": {
      "name": "python3",
      "display_name": "Python 3"
    },
    "language_info": {
      "name": "python"
    }
  },
  "cells": [
    {
      "cell_type": "markdown",
      "metadata": {
        "id": "view-in-github",
        "colab_type": "text"
      },
      "source": [
        "<a href=\"https://colab.research.google.com/github/fernelgarcua/RedesNeuronales/blob/master/cargar_multiples_dataset.ipynb\" target=\"_parent\"><img src=\"https://colab.research.google.com/assets/colab-badge.svg\" alt=\"Open In Colab\"/></a>"
      ]
    },
    {
      "cell_type": "code",
      "execution_count": null,
      "metadata": {
        "id": "vlQtkr8q1jPP"
      },
      "outputs": [],
      "source": [
        "#TRABAJAR SISTEMAS OPERATIVOS\n",
        "import os\n",
        "#PODER DESCOMPRIMIR ARCHIVOS\n",
        "import zipfile"
      ]
    },
    {
      "cell_type": "code",
      "source": [
        "#EXTRAER EL ARCHIVO\n",
        "!wget --no-check-certificate https://storage.googleapis.com/platzi-tf2/databasesLoadData.zip \\\n",
        "    -O /tmp/databasesLoadData.zip"
      ],
      "metadata": {
        "colab": {
          "base_uri": "https://localhost:8080/"
        },
        "id": "mo3u7Ko8192l",
        "outputId": "b52b835e-5734-4b84-ce72-57ecb5c54ff1"
      },
      "execution_count": null,
      "outputs": [
        {
          "output_type": "stream",
          "name": "stdout",
          "text": [
            "--2023-11-13 22:41:45--  https://storage.googleapis.com/platzi-tf2/databasesLoadData.zip\n",
            "Resolving storage.googleapis.com (storage.googleapis.com)... 173.194.216.207, 173.194.217.207, 173.194.218.207, ...\n",
            "Connecting to storage.googleapis.com (storage.googleapis.com)|173.194.216.207|:443... connected.\n",
            "HTTP request sent, awaiting response... 200 OK\n",
            "Length: 71662510 (68M) [application/zip]\n",
            "Saving to: ‘/tmp/databasesLoadData.zip’\n",
            "\n",
            "/tmp/databasesLoadD 100%[===================>]  68.34M   157MB/s    in 0.4s    \n",
            "\n",
            "2023-11-13 22:41:45 (157 MB/s) - ‘/tmp/databasesLoadData.zip’ saved [71662510/71662510]\n",
            "\n"
          ]
        }
      ]
    },
    {
      "cell_type": "code",
      "source": [
        "local_zip = '/tmp/databasesLoadData.zip'\n",
        "zip_ref = zipfile.ZipFile(local_zip, 'r')\n",
        "zip_ref.extractall('/tmp/databasesLoadData')\n",
        "zip_ref.close()"
      ],
      "metadata": {
        "id": "YqlBOu_H2Sx9"
      },
      "execution_count": null,
      "outputs": []
    },
    {
      "cell_type": "code",
      "source": [
        "import json\n",
        "import codecs\n",
        "import requests\n",
        "import numpy as np\n",
        "from PIL import Image\n",
        "from io import BytesIO\n",
        "%matplotlib inline\n",
        "import matplotlib.pyplot as plt\n"
      ],
      "metadata": {
        "id": "j6-yOhOL3mqb"
      },
      "execution_count": null,
      "outputs": []
    },
    {
      "cell_type": "code",
      "source": [
        "url = '/tmp/databasesLoadData/sign_mnist_json/data.json'"
      ],
      "metadata": {
        "id": "AoVehO564daM"
      },
      "execution_count": null,
      "outputs": []
    },
    {
      "cell_type": "code",
      "source": [
        "data_json = []\n",
        "with codecs.open(url, 'rU', 'utf-8') as js:\n",
        "  for line in js:\n",
        "    data_json.append(json.loads(line))\n",
        "\n",
        "    print('{} imagenes encontradas'.format(len(data_json)))"
      ],
      "metadata": {
        "colab": {
          "base_uri": "https://localhost:8080/"
        },
        "id": "KzOXmj-c4kC6",
        "outputId": "5814e5fa-fe18-4338-abe5-a93fdf81f72f"
      },
      "execution_count": null,
      "outputs": [
        {
          "output_type": "stream",
          "name": "stdout",
          "text": [
            "1 imagenes encontradas\n",
            "2 imagenes encontradas\n",
            "3 imagenes encontradas\n",
            "4 imagenes encontradas\n",
            "5 imagenes encontradas\n",
            "6 imagenes encontradas\n",
            "7 imagenes encontradas\n",
            "8 imagenes encontradas\n",
            "9 imagenes encontradas\n"
          ]
        }
      ]
    },
    {
      "cell_type": "code",
      "source": [
        "images = []\n",
        "\n",
        "for data in data_json:\n",
        "  response = requests.get(data['content'])\n",
        "  img = np.asarray(Image.open(BytesIO(response.content)))\n",
        "  images.append([img, data['label']])"
      ],
      "metadata": {
        "id": "43miFBaB_bfV"
      },
      "execution_count": null,
      "outputs": []
    },
    {
      "cell_type": "code",
      "source": [
        "plt.imshow(images[0][0].reshape(28,28))\n",
        "print(images[0][1])"
      ],
      "metadata": {
        "colab": {
          "base_uri": "https://localhost:8080/",
          "height": 447
        },
        "id": "UDb-kgJUAJpI",
        "outputId": "6aee6539-4723-4f4e-bd0c-5fd32f25eae0"
      },
      "execution_count": null,
      "outputs": [
        {
          "output_type": "stream",
          "name": "stdout",
          "text": [
            "b\n"
          ]
        },
        {
          "output_type": "display_data",
          "data": {
            "text/plain": [
              "<Figure size 640x480 with 1 Axes>"
            ],
            "image/png": "[encoded data removed]"
          },
          "metadata": {}
        }
      ]
    },
    {
      "cell_type": "code",
      "source": [
        "plt.imshow(images[5][0].reshape(28,28))\n",
        "print(images[0][1])"
      ],
      "metadata": {
        "colab": {
          "base_uri": "https://localhost:8080/",
          "height": 447
        },
        "id": "rgHXUJZTB0K-",
        "outputId": "12a2053a-6ad4-496f-d25a-a3b5498c2e80"
      },
      "execution_count": null,
      "outputs": [
        {
          "output_type": "stream",
          "name": "stdout",
          "text": [
            "b\n"
          ]
        },
        {
          "output_type": "display_data",
          "data": {
            "text/plain": [
              "<Figure size 640x480 with 1 Axes>"
            ],
            "image/png": "[encoded data removed]"
          },
          "metadata": {}
        }
      ]
    }
  ]
}